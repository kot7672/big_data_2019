{
 "cells": [
  {
   "cell_type": "code",
   "execution_count": 16,
   "metadata": {},
   "outputs": [],
   "source": [
    "from random import randint\n",
    "from sys import getsizeof\n",
    "from multiprocessing import Process\n",
    "import os\n",
    "from datetime import datetime"
   ]
  },
  {
   "cell_type": "code",
   "execution_count": 10,
   "metadata": {},
   "outputs": [],
   "source": [
    "def create_data(filename='data.txt', size=17179869184):\n",
    "    \"\"\"\n",
    "    Генерация чисел и запись в файл.\n",
    "    filename - имя файла;\n",
    "    size - минимальный размер файла.\n",
    "    \"\"\"\n",
    "    length = 0\n",
    "    with open(filename, 'wt') as file:\n",
    "        while length < size:\n",
    "            n = randint(0, 4294967295)\n",
    "            s = f'{n}\\n'\n",
    "            file.write(s)\n",
    "            length += getsizeof(s)"
   ]
  },
  {
   "cell_type": "code",
   "execution_count": 12,
   "metadata": {},
   "outputs": [],
   "source": [
    "def read_data(filename='data.txt'):\n",
    "    \"\"\"\n",
    "    Построчное чтение чисел из файла.\n",
    "    Возвращает список из прочитанных чисел.\n",
    "    \"\"\"\n",
    "    with open(filename, 'rt') as file:\n",
    "        data = []\n",
    "        for line in file:\n",
    "            data.append(int(line))\n",
    "    return data"
   ]
  },
  {
   "cell_type": "code",
   "execution_count": 13,
   "metadata": {},
   "outputs": [],
   "source": [
    "def write_to_file(data, i):\n",
    "    \"\"\"\n",
    "    Запись в файл минимального и максимального чисел из полученного списка, а также суммы всех чисел.\n",
    "    \"\"\"\n",
    "    with open('res%i' %i, 'wt') as file:\n",
    "        file.write(\"%i\\n%i\\n%i\" %\n",
    "                   (min(data), max(data), sum(data)))"
   ]
  },
  {
   "cell_type": "code",
   "execution_count": 14,
   "metadata": {},
   "outputs": [],
   "source": [
    "def get_part(data, num, part):\n",
    "    \"\"\"\n",
    "    Разбиение списка data на num частей, возврат части с номером part (нумерация с единицы).\n",
    "    \"\"\"\n",
    "    avg = len(data) / float(num)\n",
    "    start = avg*(part-1)\n",
    "    stop = avg*part\n",
    "    return data[int(start):int(stop)]"
   ]
  },
  {
   "cell_type": "code",
   "execution_count": 15,
   "metadata": {},
   "outputs": [],
   "source": [
    "def process_data(data, mode='single'):\n",
    "    \"\"\"\n",
    "    Поиск минимального и максимального числа в наборе data, нахождение суммы всех чисел.\n",
    "    data - набор чисел;\n",
    "    mode - режим работы.\n",
    "    Режимы работы: single, fork, multiprocessing.\n",
    "    \"\"\"\n",
    "    if mode == 'single':\n",
    "        return min(data), max(data), sum(data)\n",
    "    else:\n",
    "        min_int, max_int, sum_int = None, None, None\n",
    "        size = len(data)//6\n",
    "        children = []\n",
    "        for i in range(1, 7):\n",
    "            if mode == 'fork':\n",
    "                p = os.fork()\n",
    "                if not p:\n",
    "                    write_to_file(get_part(data, 6, i), i)\n",
    "                    os.abort()\n",
    "                else:\n",
    "                    children.append(int(p))\n",
    "            elif mode == 'multiprocessing':\n",
    "                children.append(Process(target=write_to_file, args=(get_part(data, 6, i), i)))\n",
    "                children[-1].start()\n",
    "        for p in children:\n",
    "            if mode == 'fork':\n",
    "                os.waitpid(p, 0)\n",
    "            elif mode == 'multiprocessing':\n",
    "                p.join()\n",
    "        min_int, max_int, sum_int = [], [], []\n",
    "        for i in range(1, 7):\n",
    "            with open('res%i' %i, 'rt') as file:\n",
    "                min_int.append(int(file.readline()))\n",
    "                max_int.append(int(file.readline()))\n",
    "                sum_int.append(int(file.readline()))\n",
    "    return min(min_int), max(max_int), sum(sum_int)"
   ]
  },
  {
   "cell_type": "code",
   "execution_count": null,
   "metadata": {},
   "outputs": [
    {
     "name": "stdout",
     "output_type": "stream",
     "text": [
      "Creating data: 0:27:28.044184\n"
     ]
    }
   ],
   "source": [
    "timestamp = datetime.now()\n",
    "create_data()\n",
    "print(f\"Creating data: {datetime.now()-timestamp}\")\n",
    "timestamp = datetime.now()\n",
    "data = read_data()\n",
    "print(f\"Reading data: {datetime.now()-timestamp}\\n\")\n",
    "modes = ['single', 'fork', 'multiprocessing']\n",
    "for mode in modes:\n",
    "    timestamp = datetime.now()\n",
    "    result = process_data(data, mode)\n",
    "    print(f\"Mode: {mode}, time: {datetime.now()-timestamp},\\n{result}\\n\")"
   ]
  },
  {
   "cell_type": "code",
   "execution_count": 8,
   "metadata": {},
   "outputs": [
    {
     "data": {
      "text/plain": [
       "(135233364, 3960806896, 45330325847)"
      ]
     },
     "execution_count": 8,
     "metadata": {},
     "output_type": "execute_result"
    }
   ],
   "source": [
    "process_data(data, mode='single')"
   ]
  },
  {
   "cell_type": "code",
   "execution_count": 9,
   "metadata": {},
   "outputs": [
    {
     "data": {
      "text/plain": [
       "(135233364, 3960806896, 45330325847)"
      ]
     },
     "execution_count": 9,
     "metadata": {},
     "output_type": "execute_result"
    }
   ],
   "source": [
    "process_data(data, mode='multiprocessing')"
   ]
  }
 ],
 "metadata": {
  "kernelspec": {
   "display_name": "Python 3",
   "language": "python",
   "name": "python3"
  },
  "language_info": {
   "codemirror_mode": {
    "name": "ipython",
    "version": 3
   },
   "file_extension": ".py",
   "mimetype": "text/x-python",
   "name": "python",
   "nbconvert_exporter": "python",
   "pygments_lexer": "ipython3",
   "version": "3.7.3"
  }
 },
 "nbformat": 4,
 "nbformat_minor": 2
}
