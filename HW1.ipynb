{
 "cells": [
  {
   "cell_type": "code",
   "execution_count": 16,
   "metadata": {},
   "outputs": [],
   "source": [
    "from random import randint\n",
    "import os\n",
    "from sys import getsizeof"
   ]
  },
  {
   "cell_type": "code",
   "execution_count": 17,
   "metadata": {},
   "outputs": [],
   "source": [
    "def create_data(filename='data.txt', size=17179869184):\n",
    "    length = 0\n",
    "    with open(filename, 'wt') as file:\n",
    "        while length < size:\n",
    "            n = randint(0, 4294967295)\n",
    "            s = f'{n}\\n'\n",
    "            file.write(s)\n",
    "            length += getsizeof(s)"
   ]
  },
  {
   "cell_type": "code",
   "execution_count": 14,
   "metadata": {},
   "outputs": [],
   "source": [
    "def read_data(filename='data.txt'):\n",
    "    with open(filename, 'rt') as file:\n",
    "        data = []\n",
    "        for line in file:\n",
    "            data.append(int(line))\n",
    "    return data"
   ]
  },
  {
   "cell_type": "code",
   "execution_count": 22,
   "metadata": {},
   "outputs": [],
   "source": [
    "def process_data(data, mode='single'):\n",
    "    min_int, max_int, sum_int = None, None, None\n",
    "    if mode == 'single':\n",
    "        min_int = min(data)\n",
    "        max_int = max(data)\n",
    "        sum_int = sum(data)\n",
    "    elif mode == 'fork':\n",
    "        process = -1\n",
    "        for i in range(6):\n",
    "            if not os.fork():\n",
    "                process = i\n",
    "                break\n",
    "    return min_int, max_int, sum_int"
   ]
  },
  {
   "cell_type": "code",
   "execution_count": 23,
   "metadata": {},
   "outputs": [
    {
     "data": {
      "text/plain": [
       "(116011281, 3571577728, 34715670025)"
      ]
     },
     "execution_count": 23,
     "metadata": {},
     "output_type": "execute_result"
    }
   ],
   "source": [
    "data = read_data()\n",
    "process_data(data)"
   ]
  },
  {
   "cell_type": "code",
   "execution_count": 12,
   "metadata": {},
   "outputs": [
    {
     "name": "stdout",
     "output_type": "stream",
     "text": [
      "end 6895\n",
      "end 6898\n",
      "end 6899\n",
      "end 3252\n",
      "It's -1, pid 3252\n",
      "It's 0, pid 6895\n",
      "It's 1, pid 6898\n",
      "It's 2, pid 6899\n",
      "end 6904\n",
      "It's 3, pid 6904\n",
      "end 6905\n",
      "It's 4, pid 6905\n"
     ]
    }
   ],
   "source": [
    "import os\n",
    "def create_child(n):\n",
    "    pass\n",
    "pid = os.getpid()\n",
    "current = -1\n",
    "if pid == os.getpid():\n",
    "    for i in range(5):\n",
    "        f = os.fork()\n",
    "        if not f:\n",
    "            current = i\n",
    "            break\n",
    "print(f'end {os.getpid()}')\n",
    "print(f\"It's {current}, pid {os.getpid()}\")"
   ]
  },
  {
   "cell_type": "code",
   "execution_count": null,
   "metadata": {},
   "outputs": [],
   "source": []
  }
 ],
 "metadata": {
  "kernelspec": {
   "display_name": "Python 3",
   "language": "python",
   "name": "python3"
  },
  "language_info": {
   "codemirror_mode": {
    "name": "ipython",
    "version": 3
   },
   "file_extension": ".py",
   "mimetype": "text/x-python",
   "name": "python",
   "nbconvert_exporter": "python",
   "pygments_lexer": "ipython3",
   "version": "3.7.3"
  }
 },
 "nbformat": 4,
 "nbformat_minor": 2
}
